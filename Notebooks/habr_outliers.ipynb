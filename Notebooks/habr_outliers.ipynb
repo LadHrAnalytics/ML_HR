{
  "nbformat": 4,
  "nbformat_minor": 0,
  "metadata": {
    "colab": {
      "provenance": []
    },
    "kernelspec": {
      "name": "python3",
      "display_name": "Python 3"
    },
    "language_info": {
      "name": "python"
    }
  },
  "cells": [
    {
      "cell_type": "code",
      "execution_count": 181,
      "metadata": {
        "id": "pUoevxMVNtFx"
      },
      "outputs": [],
      "source": [
        "import pandas as pd\n",
        "import gower\n",
        "from sklearn.cluster import DBSCAN\n",
        "import numpy as np\n",
        "import matplotlib.pyplot as plt"
      ]
    },
    {
      "cell_type": "code",
      "source": [
        "df = pd.DataFrame(pd.read_excel('/content/habr_general (2).xlsx'))\n",
        "df"
      ],
      "metadata": {
        "colab": {
          "base_uri": "https://localhost:8080/",
          "height": 822
        },
        "id": "Ij1EqTc5YjON",
        "outputId": "01314d22-0bc4-473c-a73e-b9f2713162c3"
      },
      "execution_count": 182,
      "outputs": [
        {
          "output_type": "execute_result",
          "data": {
            "text/plain": [
              "     Unnamed: 0      Дата размещения                             Вакансия  \\\n",
              "0             0  2024-06-27 16:50:48  Архитектор программного обеспечения   \n",
              "1             2  2024-06-04 16:24:59                     Менеджер проекта   \n",
              "2             3  2024-07-01 12:09:30                   Бэкенд разработчик   \n",
              "3             8  2024-06-04 09:23:18                    Менеджер по найму   \n",
              "4            18  2024-06-06 13:34:21       Менеджер технической поддержки   \n",
              "..          ...                  ...                                  ...   \n",
              "651        3153  2024-07-01 13:29:52                      Веб-разработчик   \n",
              "652        3160  2024-06-03 15:46:09                  Фулстек разработчик   \n",
              "653        3176  2024-06-26 13:17:01                       DevOps-инженер   \n",
              "654        3181  2024-06-27 10:06:33                  Фулстек разработчик   \n",
              "655        3194  2024-06-26 11:03:21                       Программист 1С   \n",
              "\n",
              "                 Стаж    Зарплата от    Зарплата до  \\\n",
              "0    Старший (Senior)  388888.888889  500000.000000   \n",
              "1     Стажёр (Intern)    5000.000000   25000.000000   \n",
              "2    Средний (Middle)  210000.000000  270000.000000   \n",
              "3     Стажёр (Intern)   77777.777778  100000.000000   \n",
              "4    Средний (Middle)   60000.000000   77142.857143   \n",
              "..                ...            ...            ...   \n",
              "651  Средний (Middle)  200000.000000  257142.857143   \n",
              "652   Стажёр (Intern)   40000.000000   51428.571429   \n",
              "653  Старший (Senior)  466666.666667  600000.000000   \n",
              "654  Старший (Senior)  300000.000000  385714.285714   \n",
              "655  Старший (Senior)  194444.444444  250000.000000   \n",
              "\n",
              "                               Город    Дата сбора данных  Число сотрудников  \\\n",
              "0                             Москва  2024-07-01 23:06:03                  0   \n",
              "1    Москва, Санкт-Петербург, Казань  2024-07-01 23:06:04                  1   \n",
              "2                           Удаленно  2024-07-01 23:06:04                  0   \n",
              "3                           Удаленно  2024-07-01 23:06:06                  0   \n",
              "4                           Удаленно  2024-07-01 23:06:10                  0   \n",
              "..                               ...                  ...                ...   \n",
              "651                           Москва  2024-07-01 23:23:36                  0   \n",
              "652                           Москва  2024-07-01 23:23:39                  1   \n",
              "653                         Удаленно  2024-07-01 23:23:44                  0   \n",
              "654                     Екатеринбург  2024-07-01 23:23:45                  0   \n",
              "655                         Удаленно  2024-07-01 23:23:50                  0   \n",
              "\n",
              "             Тип занятости Можно удаленно  \n",
              "0      Полный рабочий день            Нет  \n",
              "1      Полный рабочий день             Да  \n",
              "2      Полный рабочий день             Да  \n",
              "3      Полный рабочий день             Да  \n",
              "4      Полный рабочий день             Да  \n",
              "..                     ...            ...  \n",
              "651    Полный рабочий день            Нет  \n",
              "652  Неполный рабочий день             Да  \n",
              "653    Полный рабочий день             Да  \n",
              "654    Полный рабочий день            Нет  \n",
              "655    Полный рабочий день             Да  \n",
              "\n",
              "[656 rows x 11 columns]"
            ],
            "text/html": [
              "\n",
              "  <div id=\"df-0543309e-814c-4adf-a251-653db4296d7e\" class=\"colab-df-container\">\n",
              "    <div>\n",
              "<style scoped>\n",
              "    .dataframe tbody tr th:only-of-type {\n",
              "        vertical-align: middle;\n",
              "    }\n",
              "\n",
              "    .dataframe tbody tr th {\n",
              "        vertical-align: top;\n",
              "    }\n",
              "\n",
              "    .dataframe thead th {\n",
              "        text-align: right;\n",
              "    }\n",
              "</style>\n",
              "<table border=\"1\" class=\"dataframe\">\n",
              "  <thead>\n",
              "    <tr style=\"text-align: right;\">\n",
              "      <th></th>\n",
              "      <th>Unnamed: 0</th>\n",
              "      <th>Дата размещения</th>\n",
              "      <th>Вакансия</th>\n",
              "      <th>Стаж</th>\n",
              "      <th>Зарплата от</th>\n",
              "      <th>Зарплата до</th>\n",
              "      <th>Город</th>\n",
              "      <th>Дата сбора данных</th>\n",
              "      <th>Число сотрудников</th>\n",
              "      <th>Тип занятости</th>\n",
              "      <th>Можно удаленно</th>\n",
              "    </tr>\n",
              "  </thead>\n",
              "  <tbody>\n",
              "    <tr>\n",
              "      <th>0</th>\n",
              "      <td>0</td>\n",
              "      <td>2024-06-27 16:50:48</td>\n",
              "      <td>Архитектор программного обеспечения</td>\n",
              "      <td>Старший (Senior)</td>\n",
              "      <td>388888.888889</td>\n",
              "      <td>500000.000000</td>\n",
              "      <td>Москва</td>\n",
              "      <td>2024-07-01 23:06:03</td>\n",
              "      <td>0</td>\n",
              "      <td>Полный рабочий день</td>\n",
              "      <td>Нет</td>\n",
              "    </tr>\n",
              "    <tr>\n",
              "      <th>1</th>\n",
              "      <td>2</td>\n",
              "      <td>2024-06-04 16:24:59</td>\n",
              "      <td>Менеджер проекта</td>\n",
              "      <td>Стажёр (Intern)</td>\n",
              "      <td>5000.000000</td>\n",
              "      <td>25000.000000</td>\n",
              "      <td>Москва, Санкт-Петербург, Казань</td>\n",
              "      <td>2024-07-01 23:06:04</td>\n",
              "      <td>1</td>\n",
              "      <td>Полный рабочий день</td>\n",
              "      <td>Да</td>\n",
              "    </tr>\n",
              "    <tr>\n",
              "      <th>2</th>\n",
              "      <td>3</td>\n",
              "      <td>2024-07-01 12:09:30</td>\n",
              "      <td>Бэкенд разработчик</td>\n",
              "      <td>Средний (Middle)</td>\n",
              "      <td>210000.000000</td>\n",
              "      <td>270000.000000</td>\n",
              "      <td>Удаленно</td>\n",
              "      <td>2024-07-01 23:06:04</td>\n",
              "      <td>0</td>\n",
              "      <td>Полный рабочий день</td>\n",
              "      <td>Да</td>\n",
              "    </tr>\n",
              "    <tr>\n",
              "      <th>3</th>\n",
              "      <td>8</td>\n",
              "      <td>2024-06-04 09:23:18</td>\n",
              "      <td>Менеджер по найму</td>\n",
              "      <td>Стажёр (Intern)</td>\n",
              "      <td>77777.777778</td>\n",
              "      <td>100000.000000</td>\n",
              "      <td>Удаленно</td>\n",
              "      <td>2024-07-01 23:06:06</td>\n",
              "      <td>0</td>\n",
              "      <td>Полный рабочий день</td>\n",
              "      <td>Да</td>\n",
              "    </tr>\n",
              "    <tr>\n",
              "      <th>4</th>\n",
              "      <td>18</td>\n",
              "      <td>2024-06-06 13:34:21</td>\n",
              "      <td>Менеджер технической поддержки</td>\n",
              "      <td>Средний (Middle)</td>\n",
              "      <td>60000.000000</td>\n",
              "      <td>77142.857143</td>\n",
              "      <td>Удаленно</td>\n",
              "      <td>2024-07-01 23:06:10</td>\n",
              "      <td>0</td>\n",
              "      <td>Полный рабочий день</td>\n",
              "      <td>Да</td>\n",
              "    </tr>\n",
              "    <tr>\n",
              "      <th>...</th>\n",
              "      <td>...</td>\n",
              "      <td>...</td>\n",
              "      <td>...</td>\n",
              "      <td>...</td>\n",
              "      <td>...</td>\n",
              "      <td>...</td>\n",
              "      <td>...</td>\n",
              "      <td>...</td>\n",
              "      <td>...</td>\n",
              "      <td>...</td>\n",
              "      <td>...</td>\n",
              "    </tr>\n",
              "    <tr>\n",
              "      <th>651</th>\n",
              "      <td>3153</td>\n",
              "      <td>2024-07-01 13:29:52</td>\n",
              "      <td>Веб-разработчик</td>\n",
              "      <td>Средний (Middle)</td>\n",
              "      <td>200000.000000</td>\n",
              "      <td>257142.857143</td>\n",
              "      <td>Москва</td>\n",
              "      <td>2024-07-01 23:23:36</td>\n",
              "      <td>0</td>\n",
              "      <td>Полный рабочий день</td>\n",
              "      <td>Нет</td>\n",
              "    </tr>\n",
              "    <tr>\n",
              "      <th>652</th>\n",
              "      <td>3160</td>\n",
              "      <td>2024-06-03 15:46:09</td>\n",
              "      <td>Фулстек разработчик</td>\n",
              "      <td>Стажёр (Intern)</td>\n",
              "      <td>40000.000000</td>\n",
              "      <td>51428.571429</td>\n",
              "      <td>Москва</td>\n",
              "      <td>2024-07-01 23:23:39</td>\n",
              "      <td>1</td>\n",
              "      <td>Неполный рабочий день</td>\n",
              "      <td>Да</td>\n",
              "    </tr>\n",
              "    <tr>\n",
              "      <th>653</th>\n",
              "      <td>3176</td>\n",
              "      <td>2024-06-26 13:17:01</td>\n",
              "      <td>DevOps-инженер</td>\n",
              "      <td>Старший (Senior)</td>\n",
              "      <td>466666.666667</td>\n",
              "      <td>600000.000000</td>\n",
              "      <td>Удаленно</td>\n",
              "      <td>2024-07-01 23:23:44</td>\n",
              "      <td>0</td>\n",
              "      <td>Полный рабочий день</td>\n",
              "      <td>Да</td>\n",
              "    </tr>\n",
              "    <tr>\n",
              "      <th>654</th>\n",
              "      <td>3181</td>\n",
              "      <td>2024-06-27 10:06:33</td>\n",
              "      <td>Фулстек разработчик</td>\n",
              "      <td>Старший (Senior)</td>\n",
              "      <td>300000.000000</td>\n",
              "      <td>385714.285714</td>\n",
              "      <td>Екатеринбург</td>\n",
              "      <td>2024-07-01 23:23:45</td>\n",
              "      <td>0</td>\n",
              "      <td>Полный рабочий день</td>\n",
              "      <td>Нет</td>\n",
              "    </tr>\n",
              "    <tr>\n",
              "      <th>655</th>\n",
              "      <td>3194</td>\n",
              "      <td>2024-06-26 11:03:21</td>\n",
              "      <td>Программист 1С</td>\n",
              "      <td>Старший (Senior)</td>\n",
              "      <td>194444.444444</td>\n",
              "      <td>250000.000000</td>\n",
              "      <td>Удаленно</td>\n",
              "      <td>2024-07-01 23:23:50</td>\n",
              "      <td>0</td>\n",
              "      <td>Полный рабочий день</td>\n",
              "      <td>Да</td>\n",
              "    </tr>\n",
              "  </tbody>\n",
              "</table>\n",
              "<p>656 rows × 11 columns</p>\n",
              "</div>\n",
              "    <div class=\"colab-df-buttons\">\n",
              "\n",
              "  <div class=\"colab-df-container\">\n",
              "    <button class=\"colab-df-convert\" onclick=\"convertToInteractive('df-0543309e-814c-4adf-a251-653db4296d7e')\"\n",
              "            title=\"Convert this dataframe to an interactive table.\"\n",
              "            style=\"display:none;\">\n",
              "\n",
              "  <svg xmlns=\"http://www.w3.org/2000/svg\" height=\"24px\" viewBox=\"0 -960 960 960\">\n",
              "    <path d=\"M120-120v-720h720v720H120Zm60-500h600v-160H180v160Zm220 220h160v-160H400v160Zm0 220h160v-160H400v160ZM180-400h160v-160H180v160Zm440 0h160v-160H620v160ZM180-180h160v-160H180v160Zm440 0h160v-160H620v160Z\"/>\n",
              "  </svg>\n",
              "    </button>\n",
              "\n",
              "  <style>\n",
              "    .colab-df-container {\n",
              "      display:flex;\n",
              "      gap: 12px;\n",
              "    }\n",
              "\n",
              "    .colab-df-convert {\n",
              "      background-color: #E8F0FE;\n",
              "      border: none;\n",
              "      border-radius: 50%;\n",
              "      cursor: pointer;\n",
              "      display: none;\n",
              "      fill: #1967D2;\n",
              "      height: 32px;\n",
              "      padding: 0 0 0 0;\n",
              "      width: 32px;\n",
              "    }\n",
              "\n",
              "    .colab-df-convert:hover {\n",
              "      background-color: #E2EBFA;\n",
              "      box-shadow: 0px 1px 2px rgba(60, 64, 67, 0.3), 0px 1px 3px 1px rgba(60, 64, 67, 0.15);\n",
              "      fill: #174EA6;\n",
              "    }\n",
              "\n",
              "    .colab-df-buttons div {\n",
              "      margin-bottom: 4px;\n",
              "    }\n",
              "\n",
              "    [theme=dark] .colab-df-convert {\n",
              "      background-color: #3B4455;\n",
              "      fill: #D2E3FC;\n",
              "    }\n",
              "\n",
              "    [theme=dark] .colab-df-convert:hover {\n",
              "      background-color: #434B5C;\n",
              "      box-shadow: 0px 1px 3px 1px rgba(0, 0, 0, 0.15);\n",
              "      filter: drop-shadow(0px 1px 2px rgba(0, 0, 0, 0.3));\n",
              "      fill: #FFFFFF;\n",
              "    }\n",
              "  </style>\n",
              "\n",
              "    <script>\n",
              "      const buttonEl =\n",
              "        document.querySelector('#df-0543309e-814c-4adf-a251-653db4296d7e button.colab-df-convert');\n",
              "      buttonEl.style.display =\n",
              "        google.colab.kernel.accessAllowed ? 'block' : 'none';\n",
              "\n",
              "      async function convertToInteractive(key) {\n",
              "        const element = document.querySelector('#df-0543309e-814c-4adf-a251-653db4296d7e');\n",
              "        const dataTable =\n",
              "          await google.colab.kernel.invokeFunction('convertToInteractive',\n",
              "                                                    [key], {});\n",
              "        if (!dataTable) return;\n",
              "\n",
              "        const docLinkHtml = 'Like what you see? Visit the ' +\n",
              "          '<a target=\"_blank\" href=https://colab.research.google.com/notebooks/data_table.ipynb>data table notebook</a>'\n",
              "          + ' to learn more about interactive tables.';\n",
              "        element.innerHTML = '';\n",
              "        dataTable['output_type'] = 'display_data';\n",
              "        await google.colab.output.renderOutput(dataTable, element);\n",
              "        const docLink = document.createElement('div');\n",
              "        docLink.innerHTML = docLinkHtml;\n",
              "        element.appendChild(docLink);\n",
              "      }\n",
              "    </script>\n",
              "  </div>\n",
              "\n",
              "\n",
              "<div id=\"df-c072201c-7d31-472f-b62e-dc082ebf89f1\">\n",
              "  <button class=\"colab-df-quickchart\" onclick=\"quickchart('df-c072201c-7d31-472f-b62e-dc082ebf89f1')\"\n",
              "            title=\"Suggest charts\"\n",
              "            style=\"display:none;\">\n",
              "\n",
              "<svg xmlns=\"http://www.w3.org/2000/svg\" height=\"24px\"viewBox=\"0 0 24 24\"\n",
              "     width=\"24px\">\n",
              "    <g>\n",
              "        <path d=\"M19 3H5c-1.1 0-2 .9-2 2v14c0 1.1.9 2 2 2h14c1.1 0 2-.9 2-2V5c0-1.1-.9-2-2-2zM9 17H7v-7h2v7zm4 0h-2V7h2v10zm4 0h-2v-4h2v4z\"/>\n",
              "    </g>\n",
              "</svg>\n",
              "  </button>\n",
              "\n",
              "<style>\n",
              "  .colab-df-quickchart {\n",
              "      --bg-color: #E8F0FE;\n",
              "      --fill-color: #1967D2;\n",
              "      --hover-bg-color: #E2EBFA;\n",
              "      --hover-fill-color: #174EA6;\n",
              "      --disabled-fill-color: #AAA;\n",
              "      --disabled-bg-color: #DDD;\n",
              "  }\n",
              "\n",
              "  [theme=dark] .colab-df-quickchart {\n",
              "      --bg-color: #3B4455;\n",
              "      --fill-color: #D2E3FC;\n",
              "      --hover-bg-color: #434B5C;\n",
              "      --hover-fill-color: #FFFFFF;\n",
              "      --disabled-bg-color: #3B4455;\n",
              "      --disabled-fill-color: #666;\n",
              "  }\n",
              "\n",
              "  .colab-df-quickchart {\n",
              "    background-color: var(--bg-color);\n",
              "    border: none;\n",
              "    border-radius: 50%;\n",
              "    cursor: pointer;\n",
              "    display: none;\n",
              "    fill: var(--fill-color);\n",
              "    height: 32px;\n",
              "    padding: 0;\n",
              "    width: 32px;\n",
              "  }\n",
              "\n",
              "  .colab-df-quickchart:hover {\n",
              "    background-color: var(--hover-bg-color);\n",
              "    box-shadow: 0 1px 2px rgba(60, 64, 67, 0.3), 0 1px 3px 1px rgba(60, 64, 67, 0.15);\n",
              "    fill: var(--button-hover-fill-color);\n",
              "  }\n",
              "\n",
              "  .colab-df-quickchart-complete:disabled,\n",
              "  .colab-df-quickchart-complete:disabled:hover {\n",
              "    background-color: var(--disabled-bg-color);\n",
              "    fill: var(--disabled-fill-color);\n",
              "    box-shadow: none;\n",
              "  }\n",
              "\n",
              "  .colab-df-spinner {\n",
              "    border: 2px solid var(--fill-color);\n",
              "    border-color: transparent;\n",
              "    border-bottom-color: var(--fill-color);\n",
              "    animation:\n",
              "      spin 1s steps(1) infinite;\n",
              "  }\n",
              "\n",
              "  @keyframes spin {\n",
              "    0% {\n",
              "      border-color: transparent;\n",
              "      border-bottom-color: var(--fill-color);\n",
              "      border-left-color: var(--fill-color);\n",
              "    }\n",
              "    20% {\n",
              "      border-color: transparent;\n",
              "      border-left-color: var(--fill-color);\n",
              "      border-top-color: var(--fill-color);\n",
              "    }\n",
              "    30% {\n",
              "      border-color: transparent;\n",
              "      border-left-color: var(--fill-color);\n",
              "      border-top-color: var(--fill-color);\n",
              "      border-right-color: var(--fill-color);\n",
              "    }\n",
              "    40% {\n",
              "      border-color: transparent;\n",
              "      border-right-color: var(--fill-color);\n",
              "      border-top-color: var(--fill-color);\n",
              "    }\n",
              "    60% {\n",
              "      border-color: transparent;\n",
              "      border-right-color: var(--fill-color);\n",
              "    }\n",
              "    80% {\n",
              "      border-color: transparent;\n",
              "      border-right-color: var(--fill-color);\n",
              "      border-bottom-color: var(--fill-color);\n",
              "    }\n",
              "    90% {\n",
              "      border-color: transparent;\n",
              "      border-bottom-color: var(--fill-color);\n",
              "    }\n",
              "  }\n",
              "</style>\n",
              "\n",
              "  <script>\n",
              "    async function quickchart(key) {\n",
              "      const quickchartButtonEl =\n",
              "        document.querySelector('#' + key + ' button');\n",
              "      quickchartButtonEl.disabled = true;  // To prevent multiple clicks.\n",
              "      quickchartButtonEl.classList.add('colab-df-spinner');\n",
              "      try {\n",
              "        const charts = await google.colab.kernel.invokeFunction(\n",
              "            'suggestCharts', [key], {});\n",
              "      } catch (error) {\n",
              "        console.error('Error during call to suggestCharts:', error);\n",
              "      }\n",
              "      quickchartButtonEl.classList.remove('colab-df-spinner');\n",
              "      quickchartButtonEl.classList.add('colab-df-quickchart-complete');\n",
              "    }\n",
              "    (() => {\n",
              "      let quickchartButtonEl =\n",
              "        document.querySelector('#df-c072201c-7d31-472f-b62e-dc082ebf89f1 button');\n",
              "      quickchartButtonEl.style.display =\n",
              "        google.colab.kernel.accessAllowed ? 'block' : 'none';\n",
              "    })();\n",
              "  </script>\n",
              "</div>\n",
              "    </div>\n",
              "  </div>\n"
            ],
            "application/vnd.google.colaboratory.intrinsic+json": {
              "type": "dataframe",
              "variable_name": "df",
              "summary": "{\n  \"name\": \"df\",\n  \"rows\": 656,\n  \"fields\": [\n    {\n      \"column\": \"Unnamed: 0\",\n      \"properties\": {\n        \"dtype\": \"number\",\n        \"std\": 926,\n        \"min\": 0,\n        \"max\": 3194,\n        \"num_unique_values\": 656,\n        \"samples\": [\n          900,\n          1235,\n          486\n        ],\n        \"semantic_type\": \"\",\n        \"description\": \"\"\n      }\n    },\n    {\n      \"column\": \"\\u0414\\u0430\\u0442\\u0430 \\u0440\\u0430\\u0437\\u043c\\u0435\\u0449\\u0435\\u043d\\u0438\\u044f\",\n      \"properties\": {\n        \"dtype\": \"object\",\n        \"num_unique_values\": 616,\n        \"samples\": [\n          \"2024-06-26 15:54:12\",\n          \"2024-06-29 10:27:15\",\n          \"2024-06-24 15:56:28\"\n        ],\n        \"semantic_type\": \"\",\n        \"description\": \"\"\n      }\n    },\n    {\n      \"column\": \"\\u0412\\u0430\\u043a\\u0430\\u043d\\u0441\\u0438\\u044f\",\n      \"properties\": {\n        \"dtype\": \"category\",\n        \"num_unique_values\": 75,\n        \"samples\": [\n          \"\\u041c\\u0435\\u043d\\u0435\\u0434\\u0436\\u0435\\u0440 \\u0442\\u0435\\u0445\\u043d\\u0438\\u0447\\u0435\\u0441\\u043a\\u043e\\u0439 \\u043f\\u043e\\u0434\\u0434\\u0435\\u0440\\u0436\\u043a\\u0438\",\n          \"\\u0410\\u0434\\u043c\\u0438\\u043d\\u0438\\u0441\\u0442\\u0440\\u0430\\u0442\\u043e\\u0440 \\u0437\\u0430\\u0449\\u0438\\u0442\\u044b\",\n          \"PR-\\u043c\\u0435\\u043d\\u0435\\u0434\\u0436\\u0435\\u0440\"\n        ],\n        \"semantic_type\": \"\",\n        \"description\": \"\"\n      }\n    },\n    {\n      \"column\": \"\\u0421\\u0442\\u0430\\u0436\",\n      \"properties\": {\n        \"dtype\": \"category\",\n        \"num_unique_values\": 4,\n        \"samples\": [\n          \"\\u0421\\u0442\\u0430\\u0436\\u0451\\u0440 (Intern)\",\n          \"\\u041c\\u043b\\u0430\\u0434\\u0448\\u0438\\u0439 (Junior)\",\n          \"\\u0421\\u0442\\u0430\\u0440\\u0448\\u0438\\u0439 (Senior)\"\n        ],\n        \"semantic_type\": \"\",\n        \"description\": \"\"\n      }\n    },\n    {\n      \"column\": \"\\u0417\\u0430\\u0440\\u043f\\u043b\\u0430\\u0442\\u0430 \\u043e\\u0442\",\n      \"properties\": {\n        \"dtype\": \"number\",\n        \"std\": 114444.14906236493,\n        \"min\": 5000.0,\n        \"max\": 1000000.0,\n        \"num_unique_values\": 132,\n        \"samples\": [\n          125000.0,\n          287777.7777777778,\n          116666.6666666667\n        ],\n        \"semantic_type\": \"\",\n        \"description\": \"\"\n      }\n    },\n    {\n      \"column\": \"\\u0417\\u0430\\u0440\\u043f\\u043b\\u0430\\u0442\\u0430 \\u0434\\u043e\",\n      \"properties\": {\n        \"dtype\": \"number\",\n        \"std\": 155058.80180553993,\n        \"min\": 10000.0,\n        \"max\": 1492950.0,\n        \"num_unique_values\": 125,\n        \"samples\": [\n          400000.0,\n          511868.5714285714,\n          10000.0\n        ],\n        \"semantic_type\": \"\",\n        \"description\": \"\"\n      }\n    },\n    {\n      \"column\": \"\\u0413\\u043e\\u0440\\u043e\\u0434\",\n      \"properties\": {\n        \"dtype\": \"category\",\n        \"num_unique_values\": 90,\n        \"samples\": [\n          \"\\u0422\\u0430\\u043b\\u043b\\u0438\\u043d (\\u042d\\u0441\\u0442\\u043e\\u043d\\u0438\\u044f)\",\n          \"\\u041b\\u0438\\u043c\\u0430\\u0441\\u0441\\u043e\\u043b (\\u041a\\u0438\\u043f\\u0440)\",\n          \"\\u041c\\u043e\\u0441\\u043a\\u0432\\u0430, \\u0410\\u0441\\u0442\\u0440\\u0430\\u0445\\u0430\\u043d\\u044c, \\u041a\\u0440\\u0430\\u0441\\u043d\\u043e\\u0434\\u0430\\u0440\"\n        ],\n        \"semantic_type\": \"\",\n        \"description\": \"\"\n      }\n    },\n    {\n      \"column\": \"\\u0414\\u0430\\u0442\\u0430 \\u0441\\u0431\\u043e\\u0440\\u0430 \\u0434\\u0430\\u043d\\u043d\\u044b\\u0445\",\n      \"properties\": {\n        \"dtype\": \"object\",\n        \"num_unique_values\": 489,\n        \"samples\": [\n          \"2024-07-01 23:22:40\",\n          \"2024-07-01 23:09:16\",\n          \"2024-07-01 23:22:04\"\n        ],\n        \"semantic_type\": \"\",\n        \"description\": \"\"\n      }\n    },\n    {\n      \"column\": \"\\u0427\\u0438\\u0441\\u043b\\u043e \\u0441\\u043e\\u0442\\u0440\\u0443\\u0434\\u043d\\u0438\\u043a\\u043e\\u0432\",\n      \"properties\": {\n        \"dtype\": \"number\",\n        \"std\": 13,\n        \"min\": 0,\n        \"max\": 83,\n        \"num_unique_values\": 12,\n        \"samples\": [\n          83,\n          7,\n          0\n        ],\n        \"semantic_type\": \"\",\n        \"description\": \"\"\n      }\n    },\n    {\n      \"column\": \"\\u0422\\u0438\\u043f \\u0437\\u0430\\u043d\\u044f\\u0442\\u043e\\u0441\\u0442\\u0438\",\n      \"properties\": {\n        \"dtype\": \"category\",\n        \"num_unique_values\": 3,\n        \"samples\": [\n          \"\\u041f\\u043e\\u043b\\u043d\\u044b\\u0439 \\u0440\\u0430\\u0431\\u043e\\u0447\\u0438\\u0439 \\u0434\\u0435\\u043d\\u044c\",\n          \"\\u041d\\u0435 \\u0443\\u043a\\u0430\\u0437\\u0430\\u043d\",\n          \"\\u041d\\u0435\\u043f\\u043e\\u043b\\u043d\\u044b\\u0439 \\u0440\\u0430\\u0431\\u043e\\u0447\\u0438\\u0439 \\u0434\\u0435\\u043d\\u044c\"\n        ],\n        \"semantic_type\": \"\",\n        \"description\": \"\"\n      }\n    },\n    {\n      \"column\": \"\\u041c\\u043e\\u0436\\u043d\\u043e \\u0443\\u0434\\u0430\\u043b\\u0435\\u043d\\u043d\\u043e\",\n      \"properties\": {\n        \"dtype\": \"category\",\n        \"num_unique_values\": 2,\n        \"samples\": [\n          \"\\u0414\\u0430\",\n          \"\\u041d\\u0435\\u0442\"\n        ],\n        \"semantic_type\": \"\",\n        \"description\": \"\"\n      }\n    }\n  ]\n}"
            }
          },
          "metadata": {},
          "execution_count": 182
        }
      ]
    },
    {
      "cell_type": "code",
      "source": [
        "def eps_selection_graph(data, m=3):\n",
        "    distances = gower.gower_matrix(data)\n",
        "    dists_over_pairs = []\n",
        "    for i in range(distances.shape[0]):\n",
        "        dists_i = []\n",
        "        for j in range(distances.shape[0]):\n",
        "            if (i != j):\n",
        "                dists_i.append(distances[i][j])\n",
        "        dists_i = sorted(dists_i)\n",
        "        dists_over_pairs.append(sum(dists_i[0:m+1])/m)\n",
        "    plt.plot(sorted(dists_over_pairs))\n",
        "    plt.xlabel('sorted objects')\n",
        "    plt.ylabel(f'mean distance over {m} nearest neighbors')"
      ],
      "metadata": {
        "id": "HJ7XEoXaubEl"
      },
      "execution_count": 183,
      "outputs": []
    },
    {
      "cell_type": "code",
      "source": [
        "def find_outliers(data, m=3, e=0.1):\n",
        "    distances = gower.gower_matrix(data)\n",
        "\n",
        "    db = DBSCAN(eps=e, min_samples=m, metric='precomputed').fit(distances)\n",
        "    labels = db.labels_\n",
        "    print('Number of outliers: ', pd.Series(labels).value_counts()[-1])\n",
        "    return np.where(labels == -1)[0]"
      ],
      "metadata": {
        "id": "VQmnhwmwr7vJ"
      },
      "execution_count": 184,
      "outputs": []
    },
    {
      "cell_type": "code",
      "source": [
        "eps_selection_graph(df[['Стаж', 'Вакансия', 'Зарплата от', 'Зарплата до']].values, m=3)"
      ],
      "metadata": {
        "colab": {
          "base_uri": "https://localhost:8080/",
          "height": 449
        },
        "id": "GRhVZ2wwxghL",
        "outputId": "4ab79949-7edf-463f-967f-44516a01754f"
      },
      "execution_count": 185,
      "outputs": [
        {
          "output_type": "display_data",
          "data": {
            "text/plain": [
              "<Figure size 640x480 with 1 Axes>"
            ],
            "image/png": "[encoded data removed]"
          },
          "metadata": {}
        }
      ]
    },
    {
      "cell_type": "code",
      "source": [
        "eps_selection_graph(df[['Стаж', 'Зарплата от', 'Зарплата до']].values, m=5)"
      ],
      "metadata": {
        "colab": {
          "base_uri": "https://localhost:8080/",
          "height": 449
        },
        "id": "S678MdUex7Ub",
        "outputId": "a2191f40-8d8c-4fc8-f5a4-2034803b8e17"
      },
      "execution_count": 186,
      "outputs": [
        {
          "output_type": "display_data",
          "data": {
            "text/plain": [
              "<Figure size 640x480 with 1 Axes>"
            ],
            "image/png": "[encoded data removed]"
          },
          "metadata": {}
        }
      ]
    },
    {
      "cell_type": "code",
      "source": [
        "eps_selection_graph(df[['Зарплата от', 'Зарплата до']].values, m=5)"
      ],
      "metadata": {
        "colab": {
          "base_uri": "https://localhost:8080/",
          "height": 449
        },
        "id": "FDfTL-9iyMnr",
        "outputId": "257488f9-4d3d-468d-d8f2-ce8f4406b69e"
      },
      "execution_count": 187,
      "outputs": [
        {
          "output_type": "display_data",
          "data": {
            "text/plain": [
              "<Figure size 640x480 with 1 Axes>"
            ],
            "image/png": "[encoded data removed]"
          },
          "metadata": {}
        }
      ]
    },
    {
      "cell_type": "code",
      "source": [
        "find_outliers(df[['Стаж', 'Вакансия', 'Зарплата от', 'Зарплата до']].values, m=3, e=0.09)"
      ],
      "metadata": {
        "colab": {
          "base_uri": "https://localhost:8080/"
        },
        "id": "J7kiQFZDuJRx",
        "outputId": "3e35f03b-d51b-4711-fd94-6e088129e453"
      },
      "execution_count": 188,
      "outputs": [
        {
          "output_type": "stream",
          "name": "stdout",
          "text": [
            "Number of outliers:  127\n"
          ]
        },
        {
          "output_type": "execute_result",
          "data": {
            "text/plain": [
              "array([  9,  11,  13,  22,  27,  33,  40,  59,  61,  62,  63,  75,  76,\n",
              "        78,  84,  85,  86,  87,  92,  95, 108, 113, 114, 117, 119, 126,\n",
              "       129, 130, 135, 140, 147, 155, 157, 159, 162, 180, 184, 187, 188,\n",
              "       190, 200, 202, 210, 220, 222, 225, 227, 232, 236, 241, 246, 262,\n",
              "       264, 267, 270, 271, 289, 299, 305, 307, 313, 314, 317, 321, 324,\n",
              "       332, 334, 336, 339, 343, 344, 345, 347, 350, 354, 360, 365, 377,\n",
              "       381, 383, 385, 387, 396, 400, 403, 404, 405, 413, 416, 423, 429,\n",
              "       435, 436, 437, 459, 465, 467, 476, 480, 483, 502, 503, 511, 517,\n",
              "       526, 531, 537, 550, 555, 559, 563, 567, 570, 572, 582, 599, 604,\n",
              "       608, 617, 618, 623, 631, 632, 640, 644, 647, 652])"
            ]
          },
          "metadata": {},
          "execution_count": 188
        }
      ]
    },
    {
      "cell_type": "code",
      "source": [
        "find_outliers(df[['Стаж', 'Зарплата от', 'Зарплата до']].values, m=5, e=0.05)"
      ],
      "metadata": {
        "colab": {
          "base_uri": "https://localhost:8080/"
        },
        "id": "kpLdkDmoEVQK",
        "outputId": "7f41e241-99d2-4d87-8fd2-583b790bad2d"
      },
      "execution_count": 189,
      "outputs": [
        {
          "output_type": "stream",
          "name": "stdout",
          "text": [
            "Number of outliers:  7\n"
          ]
        },
        {
          "output_type": "execute_result",
          "data": {
            "text/plain": [
              "array([ 12,  75, 191, 235, 405, 543, 610])"
            ]
          },
          "metadata": {},
          "execution_count": 189
        }
      ]
    },
    {
      "cell_type": "code",
      "source": [
        "find_outliers(df[['Зарплата от', 'Зарплата до']].values, m=5, e=0.05)"
      ],
      "metadata": {
        "colab": {
          "base_uri": "https://localhost:8080/"
        },
        "id": "H_cVusl5FGuB",
        "outputId": "e26dc9ae-7c34-4d3d-aa67-014be6d4d851"
      },
      "execution_count": 190,
      "outputs": [
        {
          "output_type": "stream",
          "name": "stdout",
          "text": [
            "Number of outliers:  4\n"
          ]
        },
        {
          "output_type": "execute_result",
          "data": {
            "text/plain": [
              "array([ 12,  75, 405, 610])"
            ]
          },
          "metadata": {},
          "execution_count": 190
        }
      ]
    },
    {
      "cell_type": "code",
      "source": [
        "data = df[['Зарплата от', 'Зарплата до']].values\n",
        "distances = gower.gower_matrix(data)\n",
        "\n",
        "db = DBSCAN(eps=0.05, min_samples=5, metric='precomputed').fit(distances)\n",
        "labels = db.labels_\n",
        "\n",
        "unique_labels = set(labels)\n",
        "colors = ['blue', 'red']\n",
        "\n",
        "plt.figure(figsize=(5,5))\n",
        "for color, label in zip(colors, unique_labels):\n",
        "    sample_mask = [True if l == label else False for l in labels]\n",
        "    plt.plot(data[:,0][sample_mask], data[:, 1][sample_mask], 'o', color=color);\n",
        "plt.xlabel('Зарплата от');\n",
        "plt.ylabel('Зарплата до');"
      ],
      "metadata": {
        "colab": {
          "base_uri": "https://localhost:8080/",
          "height": 480
        },
        "id": "7STPdTiFJS_T",
        "outputId": "b4b99643-373f-48dc-b712-6a9ab4b41e70"
      },
      "execution_count": 191,
      "outputs": [
        {
          "output_type": "display_data",
          "data": {
            "text/plain": [
              "<Figure size 500x500 with 1 Axes>"
            ],
            "image/png": "[encoded data removed]"
          },
          "metadata": {}
        }
      ]
    }
  ]
}